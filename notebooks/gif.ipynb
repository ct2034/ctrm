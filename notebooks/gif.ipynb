{
 "cells": [
  {
   "cell_type": "code",
   "execution_count": 12,
   "id": "07cb4c44-d4b4-4f6c-8c96-c161c6c63b9a",
   "metadata": {
    "collapsed": true,
    "jupyter": {
     "outputs_hidden": true
    },
    "tags": []
   },
   "outputs": [
    {
     "name": "stdout",
     "output_type": "stream",
     "text": [
      "Collecting package metadata (current_repodata.json): done\n",
      "Solving environment: done\n",
      "\n",
      "# All requested packages already installed.\n",
      "\n"
     ]
    }
   ],
   "source": [
    "!conda install -y Pillow"
   ]
  },
  {
   "cell_type": "code",
   "execution_count": 13,
   "id": "a72b8537-aebd-47d5-964c-bfac1ebe6a15",
   "metadata": {},
   "outputs": [],
   "source": [
    "import numpy as np\n",
    "import matplotlib.pyplot as plt\n",
    "import matplotlib.colors as mcolors\n",
    "import matplotlib.animation as animation\n",
    "import torch\n",
    "from tqdm import tqdm\n",
    "import os\n",
    "from PIL import Image, ImageDraw\n",
    "from glob import glob\n",
    "import shutil\n",
    "\n",
    "from ctrm.viz import simple_plot_2d\n",
    "from ctrm.utils import set_global_seeds\n",
    "from ctrm.planner import PrioritizedPlanning as PP\n",
    "from ctrm.environment.instance import generate_ins_2d_with_obs_hetero_nonfix_agents\n",
    "from ctrm.learning import reconstruct\n",
    "from ctrm.roadmap import TimedRoadmap\n",
    "from ctrm.roadmap.utils import valid_move\n",
    "from ctrm.roadmap_learned.utils import append_goals, format_trms, merge_samples"
   ]
  },
  {
   "cell_type": "code",
   "execution_count": 14,
   "id": "fdc79f8b-b505-4ac6-87be-629b00e8ddb2",
   "metadata": {},
   "outputs": [
    {
     "data": {
      "text/plain": [
       "<BarContainer object of 10 artists>"
      ]
     },
     "execution_count": 14,
     "metadata": {},
     "output_type": "execute_result"
    },
    {
     "data": {
      "image/png": "[encoded data removed]",
      "text/plain": [
       "<Figure size 432x288 with 1 Axes>"
      ]
     },
     "metadata": {
      "needs_background": "light"
     },
     "output_type": "display_data"
    }
   ],
   "source": [
    "COLORS = list(mcolors.TABLEAU_COLORS.values())\n",
    "plt.bar(range(len(COLORS)), [1]*len(COLORS), color=COLORS)"
   ]
  },
  {
   "cell_type": "markdown",
   "id": "61913883-a4c4-427a-bf63-f6dcb15b49d6",
   "metadata": {},
   "source": [
    "# utilities"
   ]
  },
  {
   "cell_type": "code",
   "execution_count": 15,
   "id": "7957d72e-3cb7-44ee-bedb-1d5537932de6",
   "metadata": {},
   "outputs": [],
   "source": [
    "output_size = 4\n",
    "fontsize = 18"
   ]
  },
  {
   "cell_type": "code",
   "execution_count": 16,
   "id": "89daa8bd-2366-4e1e-9bc0-b9b4bbecf32c",
   "metadata": {},
   "outputs": [],
   "source": [
    "def savefig(filename):\n",
    "    plt.savefig(filename, bbox_inches='tight', pad_inches=0.01)"
   ]
  },
  {
   "cell_type": "code",
   "execution_count": 17,
   "id": "b38a7ca1-f739-4241-8612-774a68f6a8cd",
   "metadata": {},
   "outputs": [],
   "source": [
    "def plot_trm_ctrm(ins, trms, filename, agent=0):\n",
    "    fig = plt.figure(figsize=(output_size, output_size))\n",
    "    ax = fig.add_subplot(111)\n",
    "    color = COLORS[agent % len(COLORS)]\n",
    "    \n",
    "    # obstacles\n",
    "    for o in ins.obs:\n",
    "        ax.add_patch(plt.Circle(o.pos, o.rad, fc=\"black\", alpha=1))\n",
    "\n",
    "    # roadmap\n",
    "    trm = trms[agent]\n",
    "    T = len(trm.V) - 1\n",
    "    for t in range(0, T):\n",
    "        locs_t0 = np.array([v.pos for v in trm.V[t]])\n",
    "        X_t0, Y_t0 = locs_t0[:, 0], locs_t0[:, 1]\n",
    "        locs_t1 = np.array([v.pos for v in trm.V[t + 1]])\n",
    "        X_t1, Y_t1 = locs_t1[:, 0], locs_t1[:, 1]\n",
    "        for i, neighbors in enumerate(trm.E[t]):\n",
    "            for j in neighbors:\n",
    "                ax.plot([X_t0[i], X_t1[j]], [Y_t0[i], Y_t1[j]], color=color, linewidth=0.5, alpha=1)\n",
    "                \n",
    "    # start and goal\n",
    "    # s = ins.starts[agent]\n",
    "    # g = ins.goals[agent]\n",
    "    # rad = ins.rads[agent]\n",
    "    # ax.add_patch(plt.Circle(s, rad, fc=color, alpha=1, ec=color))\n",
    "    # ax.scatter([g[0]], [g[1]], marker=\"s\", color=color, s=40)\n",
    "    \n",
    "    # obstacles\n",
    "    for o in ins.obs:\n",
    "        ax.add_patch(plt.Circle(o.pos, o.rad, fc=\"black\", alpha=1))\n",
    "\n",
    "    # starts and goals\n",
    "    for a in range(ins.num_agents):\n",
    "        color = COLORS[a % len(COLORS)]\n",
    "        g = ins.goals[a]\n",
    "        s = ins.starts[a]\n",
    "        rad = ins.rads[a]\n",
    "        ax.scatter([g[0]], [g[1]], marker=\"s\", color=color, s=10)\n",
    "        ax.add_patch(plt.Circle(s, rad, fc=color, ec=color))\n",
    "        \n",
    "    ax.set_xlim(0, 1)\n",
    "    ax.set_ylim(0, 1)\n",
    "    ax.set_xticks([])\n",
    "    ax.set_yticks([])\n",
    "    ax.invert_yaxis()\n",
    "    ax.xaxis.tick_top()\n",
    "    savefig(filename)\n",
    "    plt.close(fig)"
   ]
  },
  {
   "cell_type": "markdown",
   "id": "6addfc60-ff20-49be-a4b1-842225e8633d",
   "metadata": {},
   "source": [
    "# clear the tmp dirctory"
   ]
  },
  {
   "cell_type": "code",
   "execution_count": 18,
   "id": "1caaf33c-5c71-4bb5-b0ab-a24215d194e2",
   "metadata": {},
   "outputs": [],
   "source": [
    "GIFDIR = \"/workspace/notebooks/fig/tmp\"\n",
    "if os.path.exists(GIFDIR):\n",
    "    shutil.rmtree(GIFDIR)\n",
    "os.mkdir(GIFDIR)"
   ]
  },
  {
   "cell_type": "markdown",
   "id": "ff6105e1-995c-4eb5-8ac9-af3b649083a4",
   "metadata": {},
   "source": [
    "# generate one instance"
   ]
  },
  {
   "cell_type": "code",
   "execution_count": 19,
   "id": "412369c9-4b11-48d8-aef4-a7d6632136a6",
   "metadata": {},
   "outputs": [],
   "source": [
    "set_global_seeds(13)\n",
    "\n",
    "ins = generate_ins_2d_with_obs_hetero_nonfix_agents(\n",
    "    num_agents_min=21,\n",
    "    num_agents_max=25,\n",
    "    max_speeds_cands=[0.03125],\n",
    "    rads_cands=[0.015625],\n",
    "    obs_num=10,\n",
    "    obs_size_lower_bound=0.05,\n",
    "    obs_size_upper_bound=0.08,\n",
    ")"
   ]
  },
  {
   "cell_type": "code",
   "execution_count": 23,
   "id": "fcc186bb-b1d1-4d81-a87a-b0de6e3b66ab",
   "metadata": {},
   "outputs": [],
   "source": [
    "import pickle\n",
    "set_global_seeds(13)\n",
    "\n",
    "ins = pickle.load(open(\"/workspace/notebooks/CTRM_demo_ins.pkl\", \"rb\"))"
   ]
  },
  {
   "cell_type": "markdown",
   "id": "606a5cf1-49b6-4f1d-b745-a349e3af3c8c",
   "metadata": {},
   "source": [
    "## visualize instance"
   ]
  },
  {
   "cell_type": "code",
   "execution_count": 24,
   "id": "6d3e4d11-7123-4eb1-b486-361c0f288844",
   "metadata": {
    "tags": []
   },
   "outputs": [
    {
     "data": {
      "image/png": "[encoded data removed]",
      "text/plain": [
       "<Figure size 288x288 with 1 Axes>"
      ]
     },
     "metadata": {},
     "output_type": "display_data"
    }
   ],
   "source": [
    "fig = plt.figure(figsize=(output_size, output_size))\n",
    "ax = fig.add_subplot(1, 1, 1)\n",
    "\n",
    "# obstacles\n",
    "for o in ins.obs:\n",
    "    ax.add_patch(plt.Circle(o.pos, o.rad, fc=\"black\", alpha=1))\n",
    "\n",
    "# starts and goals\n",
    "for agent in range(ins.num_agents):\n",
    "    color = COLORS[agent % len(COLORS)]\n",
    "    g = ins.goals[agent]\n",
    "    s = ins.starts[agent]\n",
    "    rad = ins.rads[agent]\n",
    "    ax.scatter([g[0]], [g[1]], marker=\"s\", color=color, s=10)\n",
    "    ax.add_patch(plt.Circle(s, rad, fc=color, ec=color))\n",
    "\n",
    "ax.set_xlim(0, 1)\n",
    "ax.set_ylim(0, 1)\n",
    "ax.set_xticks([])\n",
    "ax.set_yticks([])\n",
    "ax.invert_yaxis()\n",
    "ax.xaxis.tick_top()\n",
    "savefig(f\"{GIFDIR}/instance.png\")"
   ]
  },
  {
   "cell_type": "markdown",
   "id": "d836f1da-017f-4589-91c8-27573fe8f3c6",
   "metadata": {},
   "source": [
    "# construct CTRMs"
   ]
  },
  {
   "cell_type": "code",
   "execution_count": 25,
   "id": "20c5cafb-5108-455f-bed0-b23909c89423",
   "metadata": {},
   "outputs": [],
   "source": [
    "set_global_seeds(0)\n",
    "pred_basename = \"/workspace/trained_models/aamas22-main/best\"\n",
    "N_traj = 25\n",
    "max_T = 64\n",
    "prob_uniform_sampling_after_goal = 0.9\n",
    "prob_uniform_bias = 0.0\n",
    "prob_uniform_gamma = 5.0\n",
    "merge_distance_rate = 0.1\n",
    "max_attempt = 3\n",
    "randomize_indicator = False\n",
    "verbose = 0\n",
    "\n",
    "pred_model, format_input, format_output = reconstruct(pred_basename)\n",
    "format_input.set_instance(ins)\n",
    "dim_ind = format_output.get_dim_indicators()\n",
    "trms = [ TimedRoadmap(ins.starts[i]) for i in range(ins.num_agents) ]\n",
    "\n",
    "makespan = None\n",
    "\n",
    "# trajectory\n",
    "for k_traj in tqdm(\n",
    "    range(N_traj), disable=(verbose == 0), desc=\"roadmap_gen\"\n",
    "):\n",
    "    arr_loc_next = []  # pos at t+1\n",
    "    arr_loc_current = ins.starts  # pos at t\n",
    "    arr_loc_prev = ins.starts  # pos at t-1\n",
    "    arrived_at_goals = [\n",
    "        False\n",
    "    ] * ins.num_agents  # true -> goal, false -> not yet\n",
    "\n",
    "    for t in range(1, max_T + 1):  # timestep\n",
    "        if t % 20 == 1:\n",
    "            plot_trm_ctrm(ins, trms, f\"{GIFDIR}/roadmap-{k_traj:08d}-{t:08d}.png\")\n",
    "        \n",
    "        with torch.no_grad():\n",
    "            X = format_input.get_feature_one_step(\n",
    "                ins=ins,\n",
    "                arr_current_pos=arr_loc_current,\n",
    "                arr_prev_pos=arr_loc_prev,\n",
    "            )\n",
    "            X = torch.cat([X] * dim_ind)\n",
    "\n",
    "            prob_random_walk = (\n",
    "                1\n",
    "                - np.exp(\n",
    "                    -prob_uniform_gamma\n",
    "                    * t\n",
    "                    / (max_T if makespan is None else makespan)\n",
    "                )\n",
    "            ) * (1 - prob_uniform_bias) + prob_uniform_bias\n",
    "\n",
    "            if randomize_indicator & (np.random.rand() > prob_random_walk):\n",
    "                IND = torch.nn.functional.one_hot(torch.randint(0, dim_ind, (ins.num_agents * dim_ind,)), num_classes=dim_ind)\n",
    "            else:\n",
    "                IND = torch.nn.functional.one_hot(torch.argmax(pred_model.indicator(X), -1), dim_ind)\n",
    "\n",
    "            # for resampling\n",
    "            SAMPLES = (\n",
    "                pred_model.sample(  # type: ignore\n",
    "                    X, IND\n",
    "                )\n",
    "                .detach()\n",
    "                .numpy()\n",
    "            )\n",
    "        arr_loc_current_repeat = np.repeat(\n",
    "            np.expand_dims(np.array(arr_loc_current), 0),\n",
    "            int(X.shape[0] / ins.num_agents),\n",
    "            axis=0,\n",
    "        ).reshape(-1, 2)\n",
    "        Y = arr_loc_current_repeat + SAMPLES[:, :2] * SAMPLES[\n",
    "            :, 2\n",
    "        ].reshape(-1, 1)\n",
    "\n",
    "        for i in range(ins.num_agents):  # agent\n",
    "            loc_current = arr_loc_current[i]\n",
    "\n",
    "            # define valid moves\n",
    "            def valid_edge(pos1: np.ndarray, pos2: np.ndarray) -> bool:\n",
    "                if min(pos2) < ins.rads[i] or 1 - ins.rads[i] < max(pos2):\n",
    "                    return False\n",
    "                return valid_move(\n",
    "                    pos1, pos2, ins.max_speeds[i], ins.rads[i], ins.objs\n",
    "                )\n",
    "\n",
    "            # random walk\n",
    "            def sample_uniform_i():\n",
    "                for _ in range(max_attempt):\n",
    "                    mag = ins.max_speeds[i] * np.random.rand()\n",
    "                    theta = np.random.rand() * np.pi * 2\n",
    "                    loc = (\n",
    "                        np.array([np.sin(theta), np.cos(theta)]) * mag\n",
    "                        + loc_current\n",
    "                    )\n",
    "                    if valid_edge(loc_current, loc):\n",
    "                        return loc\n",
    "                return loc_current\n",
    "\n",
    "            # get sample\n",
    "            if (\n",
    "                (\n",
    "                    not arrived_at_goals[i]\n",
    "                    and np.random.rand() < prob_random_walk\n",
    "                )\n",
    "                or (\n",
    "                    arrived_at_goals[i]\n",
    "                    and np.random.rand() > prob_uniform_sampling_after_goal\n",
    "                )\n",
    "                or (k_traj < dim_ind)\n",
    "            ):\n",
    "                is_valid_sample = False\n",
    "                for k in range(int(X.shape[0] / ins.num_agents)):\n",
    "                    loc_pred = Y[i + k * ins.num_agents]\n",
    "                    if valid_edge(loc_current, loc_pred):\n",
    "                        is_valid_sample = True\n",
    "                        break\n",
    "                if not is_valid_sample:\n",
    "                    loc_pred = sample_uniform_i()\n",
    "            else:\n",
    "                loc_pred = sample_uniform_i()\n",
    "\n",
    "            # check merge\n",
    "            loc_next = merge_samples(\n",
    "                loc=loc_pred,\n",
    "                t=t,\n",
    "                agent=i,\n",
    "                ins=ins,\n",
    "                trm=trms[i],\n",
    "                merge_distance=merge_distance_rate * ins.max_speeds[i],\n",
    "            )\n",
    "            arr_loc_next.append(loc_next)\n",
    "\n",
    "            # check goal condition\n",
    "            if valid_edge(loc_next, ins.goals[i]):\n",
    "                arrived_at_goals[i] = True\n",
    "\n",
    "        # check goal cond\n",
    "        if all(arrived_at_goals):\n",
    "            if makespan is not None:\n",
    "                makespan = max(makespan, t)\n",
    "            else:\n",
    "                makespan = t\n",
    "            break\n",
    "\n",
    "        # update loc_prev\n",
    "        arr_loc_prev = arr_loc_current\n",
    "        arr_loc_current = arr_loc_next\n",
    "        arr_loc_next = []\n",
    "\n",
    "# align length of roadmaps for planners\n",
    "format_trms(ins, trms)\n",
    "\n",
    "# append goals\n",
    "append_goals(ins, trms)\n",
    "\n",
    "plot_trm_ctrm(ins, trms, f\"{GIFDIR}/roadmap-{N_traj:08d}-{makespan:08d}.png\")"
   ]
  },
  {
   "cell_type": "markdown",
   "id": "324f8f60-b47f-45ad-82e7-f8ed193147f3",
   "metadata": {},
   "source": [
    "## gif of constructing CTRMs\n"
   ]
  },
  {
   "cell_type": "code",
   "execution_count": 27,
   "id": "fdd4b17b-f584-422f-ad5d-3e3c72531981",
   "metadata": {},
   "outputs": [],
   "source": [
    "files = sorted(glob(f\"{GIFDIR}/roadmap-*.png\"))  \n",
    "images = list(map(lambda file : Image.open(file), files))\n",
    "images[0].save(f\"{GIFDIR}/../roadmap-construction.gif\", save_all=True , append_images=images[1:] , duration=0, loop=0)"
   ]
  },
  {
   "cell_type": "markdown",
   "id": "f17be2e1-0944-4eac-8829-4a0a1034bedd",
   "metadata": {},
   "source": [
    "# CTRMs for all agents"
   ]
  },
  {
   "cell_type": "code",
   "execution_count": 28,
   "id": "7055f641-54aa-437f-bd6c-7ff41f8622b5",
   "metadata": {
    "tags": []
   },
   "outputs": [
    {
     "name": "stderr",
     "output_type": "stream",
     "text": [
      "100%|██████████| 26/26 [03:44<00:00,  8.64s/it]\n"
     ]
    }
   ],
   "source": [
    "for agent in tqdm(range(ins.num_agents)):\n",
    "    plot_trm_ctrm(ins, trms, f\"{GIFDIR}/trm-{agent:08d}.png\", agent=agent)"
   ]
  },
  {
   "cell_type": "markdown",
   "id": "410edef8-b6e1-4372-a674-0b3597f7caba",
   "metadata": {},
   "source": [
    "## gif of CTRMs for all agents"
   ]
  },
  {
   "cell_type": "code",
   "execution_count": 29,
   "id": "e81a4cd0-899a-4320-87e0-33532cc258e9",
   "metadata": {},
   "outputs": [],
   "source": [
    "files = sorted(glob(f\"{GIFDIR}/trm-*.png\"))  \n",
    "images = list(map(lambda file : Image.open(file), files))\n",
    "images[0].save(f\"{GIFDIR}/../roadmaps.gif\", save_all=True , append_images=images[1:] , duration=300, loop=1)"
   ]
  },
  {
   "cell_type": "markdown",
   "id": "da81d380-6227-4c6e-8a51-19429248ef21",
   "metadata": {},
   "source": [
    "# planning"
   ]
  },
  {
   "cell_type": "code",
   "execution_count": 30,
   "id": "32cbcd19-9cf3-465d-b46d-7286f4536ae1",
   "metadata": {
    "tags": []
   },
   "outputs": [
    {
     "name": "stderr",
     "output_type": "stream",
     "text": [
      "\u001b[32m22/01/14 05:55:14\u001b[0m | \u001b[1;30mINFO    \u001b[0m | planner.py       | info             | L085 | _solve is started, time_limit: 300 sec\n",
      "\u001b[32m22/01/14 05:55:14\u001b[0m | \u001b[1;30mINFO    \u001b[0m | planner.py       | info             | L085 | agent-0 starts planning\n",
      "\u001b[32m22/01/14 05:55:14\u001b[0m | \u001b[1;30mINFO    \u001b[0m | planner.py       | info             | L085 | agent-1 starts planning\n",
      "\u001b[32m22/01/14 05:55:14\u001b[0m | \u001b[1;30mINFO    \u001b[0m | planner.py       | info             | L085 | agent-2 starts planning\n",
      "\u001b[32m22/01/14 05:55:14\u001b[0m | \u001b[1;30mINFO    \u001b[0m | planner.py       | info             | L085 | agent-3 starts planning\n",
      "\u001b[32m22/01/14 05:55:14\u001b[0m | \u001b[1;30mINFO    \u001b[0m | planner.py       | info             | L085 | agent-4 starts planning\n",
      "\u001b[32m22/01/14 05:55:14\u001b[0m | \u001b[1;30mINFO    \u001b[0m | planner.py       | info             | L085 | agent-5 starts planning\n",
      "\u001b[32m22/01/14 05:55:14\u001b[0m | \u001b[1;30mINFO    \u001b[0m | planner.py       | info             | L085 | agent-6 starts planning\n",
      "\u001b[32m22/01/14 05:55:14\u001b[0m | \u001b[1;30mINFO    \u001b[0m | planner.py       | info             | L085 | agent-7 starts planning\n",
      "\u001b[32m22/01/14 05:55:14\u001b[0m | \u001b[1;30mINFO    \u001b[0m | planner.py       | info             | L085 | agent-8 starts planning\n",
      "\u001b[32m22/01/14 05:55:14\u001b[0m | \u001b[1;30mINFO    \u001b[0m | planner.py       | info             | L085 | agent-9 starts planning\n",
      "\u001b[32m22/01/14 05:55:15\u001b[0m | \u001b[1;30mINFO    \u001b[0m | planner.py       | info             | L085 | agent-10 starts planning\n",
      "\u001b[32m22/01/14 05:55:15\u001b[0m | \u001b[1;30mINFO    \u001b[0m | planner.py       | info             | L085 | agent-11 starts planning\n",
      "\u001b[32m22/01/14 05:55:15\u001b[0m | \u001b[1;30mINFO    \u001b[0m | planner.py       | info             | L085 | agent-12 starts planning\n",
      "\u001b[32m22/01/14 05:55:15\u001b[0m | \u001b[1;30mINFO    \u001b[0m | planner.py       | info             | L085 | agent-13 starts planning\n",
      "\u001b[32m22/01/14 05:55:15\u001b[0m | \u001b[1;30mINFO    \u001b[0m | planner.py       | info             | L085 | agent-14 starts planning\n",
      "\u001b[32m22/01/14 05:55:16\u001b[0m | \u001b[1;30mINFO    \u001b[0m | planner.py       | info             | L085 | agent-15 starts planning\n",
      "\u001b[32m22/01/14 05:55:16\u001b[0m | \u001b[1;30mINFO    \u001b[0m | planner.py       | info             | L085 | agent-16 starts planning\n",
      "\u001b[32m22/01/14 05:55:16\u001b[0m | \u001b[1;30mINFO    \u001b[0m | planner.py       | info             | L085 | agent-17 starts planning\n",
      "\u001b[32m22/01/14 05:55:17\u001b[0m | \u001b[1;30mINFO    \u001b[0m | planner.py       | info             | L085 | agent-18 starts planning\n",
      "\u001b[32m22/01/14 05:55:17\u001b[0m | \u001b[1;30mINFO    \u001b[0m | planner.py       | info             | L085 | agent-19 starts planning\n",
      "\u001b[32m22/01/14 05:55:17\u001b[0m | \u001b[1;30mINFO    \u001b[0m | planner.py       | info             | L085 | agent-20 starts planning\n",
      "\u001b[32m22/01/14 05:55:17\u001b[0m | \u001b[1;30mINFO    \u001b[0m | planner.py       | info             | L085 | agent-21 starts planning\n",
      "\u001b[32m22/01/14 05:55:18\u001b[0m | \u001b[1;30mINFO    \u001b[0m | planner.py       | info             | L085 | agent-22 starts planning\n",
      "\u001b[32m22/01/14 05:55:18\u001b[0m | \u001b[1;30mINFO    \u001b[0m | planner.py       | info             | L085 | agent-23 starts planning\n",
      "\u001b[32m22/01/14 05:55:19\u001b[0m | \u001b[1;30mINFO    \u001b[0m | planner.py       | info             | L085 | agent-24 starts planning\n",
      "\u001b[32m22/01/14 05:55:19\u001b[0m | \u001b[1;30mINFO    \u001b[0m | planner.py       | info             | L085 | agent-25 starts planning\n",
      "\u001b[32m22/01/14 05:55:19\u001b[0m | \u001b[1;30mINFO    \u001b[0m | planner.py       | info             | L085 | _solve is done, 5.655219316482544 sec\n"
     ]
    }
   ],
   "source": [
    "planner = PP(ins, trms, time_limit=300, verbose=1)\n",
    "res = planner.solve()"
   ]
  },
  {
   "cell_type": "markdown",
   "id": "dbff3bb2-d008-47d1-8236-335b37d43720",
   "metadata": {},
   "source": [
    "# visualize solution"
   ]
  },
  {
   "cell_type": "code",
   "execution_count": 31,
   "id": "1becf3c9-0a6a-4a91-9411-81e2c6654bf2",
   "metadata": {},
   "outputs": [
    {
     "name": "stderr",
     "output_type": "stream",
     "text": [
      "100%|██████████| 42/42 [00:12<00:00,  3.39it/s]\n"
     ]
    }
   ],
   "source": [
    "for t in tqdm(range(res.maximum_costs + 1)):\n",
    "    fig = plt.figure(figsize=(output_size, output_size))\n",
    "    ax = fig.add_subplot(1, 1, 1)\n",
    "    \n",
    "    # obstacles\n",
    "    for o in ins.obs:\n",
    "        ax.add_patch(plt.Circle(o.pos, o.rad, fc=\"black\", alpha=1))\n",
    "\n",
    "    # goals\n",
    "    for agent in range(ins.num_agents):\n",
    "        color = COLORS[agent % len(COLORS)]\n",
    "        g = ins.goals[agent]\n",
    "        ax.scatter([g[0]], [g[1]], marker=\"s\", color=color, s=10)\n",
    "\n",
    "    # agents\n",
    "    for agent in range(ins.num_agents):\n",
    "        color = COLORS[agent % len(COLORS)]\n",
    "        pos = res.paths[agent][t].pos\n",
    "        rad = ins.rads[agent]\n",
    "        path_numpy = np.array([ v.pos for v in res.paths[agent][:t+1] ])\n",
    "        ax.plot(path_numpy[:,0], path_numpy[:,1], color=color, linewidth=1)\n",
    "        if all(pos == ins.goals[agent]):\n",
    "            ax.add_patch(plt.Circle(pos, rad, fc=\"white\", ec=color))\n",
    "        else:\n",
    "            ax.add_patch(plt.Circle(pos, rad, fc=color, ec=color))\n",
    "\n",
    "    ax.set_xlim(0, 1)\n",
    "    ax.set_ylim(0, 1)\n",
    "    ax.set_xticks([])\n",
    "    ax.set_yticks([])\n",
    "    ax.invert_yaxis()\n",
    "    ax.xaxis.tick_top()\n",
    "    savefig(f\"{GIFDIR}/solution-{t:08d}.png\")\n",
    "    plt.close(fig)"
   ]
  },
  {
   "cell_type": "markdown",
   "id": "7fa84b63-418f-4926-80a6-b2b2efe24ebb",
   "metadata": {},
   "source": [
    "## gif for solution"
   ]
  },
  {
   "cell_type": "code",
   "execution_count": 32,
   "id": "cd98ee65-e884-49e4-b3ff-d4934fd8f591",
   "metadata": {},
   "outputs": [],
   "source": [
    "files = sorted(glob(f\"{GIFDIR}/solution-*.png\"))  \n",
    "images = list(map(lambda file : Image.open(file), files))\n",
    "images[0].save(f\"{GIFDIR}/../solution.gif\", save_all=True , append_images=images[1:] , duration=1, loop=0)"
   ]
  },
  {
   "cell_type": "markdown",
   "id": "e5db628d-4a3b-44c4-842c-a70536f35450",
   "metadata": {},
   "source": [
    "# composited GIF"
   ]
  },
  {
   "cell_type": "code",
   "execution_count": 33,
   "id": "c92ef02f-7586-40e4-be2f-c85513bcdcad",
   "metadata": {},
   "outputs": [
    {
     "name": "stderr",
     "output_type": "stream",
     "text": [
      "100%|██████████| 78/78 [00:00<00:00, 216.08it/s]\n",
      "100%|██████████| 26/26 [00:14<00:00,  1.84it/s]\n",
      "100%|██████████| 42/42 [00:00<00:00, 135.14it/s]\n"
     ]
    }
   ],
   "source": [
    "files_roadmap = sorted(glob(f\"{GIFDIR}/roadmap-*.png\"))\n",
    "files_trm = sorted(glob(f\"{GIFDIR}/trm-*.png\"))\n",
    "files_solution = sorted(glob(f\"{GIFDIR}/solution-*.png\"))  \n",
    "\n",
    "img_instance = Image.open(f\"{GIFDIR}/instance.png\")\n",
    "img_roadmap = Image.open(files_roadmap[0])\n",
    "img_trm = Image.open(files_trm[0])\n",
    "img_solution = Image.open(files_solution[0])\n",
    "\n",
    "w = img_instance.width\n",
    "h = img_instance.height\n",
    "cnt = 0\n",
    "\n",
    "def generate_one_image(img_roadmap, img_trm, img_solution, cnt, focus=0):\n",
    "    buf = 3\n",
    "    img_merge = Image.new(\"RGBA\", (w * 3 + buf, h + buf))\n",
    "    img_merge.paste(img_solution, (w*0, 0))\n",
    "    img_merge.paste(img_roadmap,  (w*1, 0))\n",
    "    img_merge.paste(img_trm,      (w*2, 0))\n",
    "    im_shadow = Image.new(\"RGBA\", (w * 3 + buf, h + buf))\n",
    "    draw = ImageDraw.Draw(im_shadow)\n",
    "    draw.rectangle((w*focus, 0, w*(focus+1)+buf, h+buf), outline=(0, 0, 0, 255), width=buf*2)    \n",
    "    img_merge = Image.alpha_composite(img_merge, im_shadow)\n",
    "    cnt += 1\n",
    "    return img_merge\n",
    "\n",
    "images = []\n",
    "\n",
    "for file in tqdm(files_roadmap):\n",
    "    img_roadmap = Image.open(file)\n",
    "    images.append(generate_one_image(img_roadmap, img_trm, img_solution, cnt, focus=1))\n",
    "    \n",
    "for file in tqdm(files_trm):\n",
    "    img_trm = Image.open(file)\n",
    "    for _ in range(200):\n",
    "        images.append(generate_one_image(img_roadmap, img_trm, img_solution, cnt, focus=2))\n",
    "    \n",
    "for file in tqdm(files_solution):\n",
    "    img_solution = Image.open(file)\n",
    "    images.append(generate_one_image(img_roadmap, img_trm, img_solution, cnt, focus=0))\n",
    "    \n",
    "images[0].save(f\"{GIFDIR}/../ctrm.gif\", save_all=True , append_images=images[1:] , duration=1, loop=0)"
   ]
  }
 ],
 "metadata": {
  "kernelspec": {
   "display_name": "Python 3",
   "language": "python",
   "name": "python3"
  },
  "language_info": {
   "codemirror_mode": {
    "name": "ipython",
    "version": 3
   },
   "file_extension": ".py",
   "mimetype": "text/x-python",
   "name": "python",
   "nbconvert_exporter": "python",
   "pygments_lexer": "ipython3",
   "version": "3.7.10"
  }
 },
 "nbformat": 4,
 "nbformat_minor": 5
}
